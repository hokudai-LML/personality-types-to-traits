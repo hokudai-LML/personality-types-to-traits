{
 "cells": [
  {
   "cell_type": "code",
   "execution_count": 5,
   "metadata": {},
   "outputs": [],
   "source": [
    "import pandas as pd\n",
    "\n",
    "\n",
    "data = pd.read_csv('./data/mbti_enne_pred_extended_liwc.csv')"
   ]
  },
  {
   "cell_type": "code",
   "execution_count": 7,
   "metadata": {},
   "outputs": [],
   "source": [
    "from scipy.stats import pearsonr, spearmanr"
   ]
  },
  {
   "cell_type": "code",
   "execution_count": 13,
   "metadata": {},
   "outputs": [
    {
     "name": "stderr",
     "output_type": "stream",
     "text": [
      "/home/dusan/.pyenv/versions/3.7.13/lib/python3.7/site-packages/IPython/core/interactiveshell.py:3552: DtypeWarning: Columns (18) have mixed types.Specify dtype option on import or set low_memory=False.\n",
      "  exec(code_obj, self.user_global_ns, self.user_ns)\n"
     ]
    }
   ],
   "source": [
    "authors = pd.read_csv('all_authors_combined_liwc.csv')\n",
    "result = pd.merge(authors, data, on=\"author\")"
   ]
  },
  {
   "cell_type": "code",
   "execution_count": 8,
   "metadata": {},
   "outputs": [],
   "source": [
    "liwc = ['WC', 'WPS', 'Sixltr', 'Dic', 'funct', 'pronoun', 'ppron', 'i', 'we', 'you', 'shehe', 'they', 'ipron', 'article', 'verb', 'auxverb', 'past', 'present', 'future', 'adverb', 'preps', 'conj', 'negate', 'quant', 'number', 'swear', 'social', 'family', 'friend', 'humans', 'affect', 'posemo', 'negemo', 'anx', 'anger', 'sad', 'cogmech', 'insight', 'cause', 'discrep', 'tentat', 'certain', 'inhib', 'incl', 'excl', 'percept', 'see', 'hear', 'feel', 'bio', 'body', 'health', 'sexual', 'ingest', 'relativ', 'motion', 'space', 'time', 'work', 'achieve', 'leisure', 'home', 'money', 'relig', 'death', 'assent', 'nonfl', 'filler', 'AllPunc', 'Period', 'Comma', 'Colon', 'SemiC', 'QMark', 'Exclam', 'Dash', 'Quote', 'Apostro', 'Parenth', 'OtherP']"
   ]
  },
  {
   "cell_type": "code",
   "execution_count": 19,
   "metadata": {},
   "outputs": [
    {
     "name": "stdout",
     "output_type": "stream",
     "text": [
      "['author', 'mbti', 'introverted', 'intuitive', 'thinking', 'perceiving', 'gender', 'age', 'enneagram', 'country', 'state', 'type', 'agreeableness', 'openness', 'conscientiousness', 'extraversion', 'neuroticism', 'is_description', 'is_percentile', 'is_score', 'contains_details', 'num_comments', 'en_comments', 'en_comments_percentage', 'region', 'continent', 'country_code', 'enneagram_type', 'enneagram_wing', 'is_native_english_country', 'predicted_test', 'test_name', 'test_scale', '16pers_ta', 'test_result_type', 'is_female', 'is_female_pred', 'is_female_proba', 'comments', 'Segment', 'WC', 'WPS', 'Sixltr', 'Dic', 'funct', 'pronoun', 'ppron', 'i', 'we', 'you', 'shehe', 'they', 'ipron', 'article', 'verb', 'auxverb', 'past', 'present', 'future', 'adverb', 'preps', 'conj', 'negate', 'quant', 'number', 'swear', 'social', 'family', 'friend', 'humans', 'affect', 'posemo', 'negemo', 'anx', 'anger', 'sad', 'cogmech', 'insight', 'cause', 'discrep', 'tentat', 'certain', 'inhib', 'incl', 'excl', 'percept', 'see', 'hear', 'feel', 'bio', 'body', 'health', 'sexual', 'ingest', 'relativ', 'motion', 'space', 'time', 'work', 'achieve', 'leisure', 'home', 'money', 'relig', 'death', 'assent', 'nonfl', 'filler', 'AllPunc', 'Period', 'Comma', 'Colon', 'SemiC', 'QMark', 'Exclam', 'Dash', 'Quote', 'Apostro', 'Parenth', 'OtherP']\n"
     ]
    }
   ],
   "source": [
    "print(list(selected_rows.columns))"
   ]
  },
  {
   "cell_type": "code",
   "execution_count": 22,
   "metadata": {},
   "outputs": [],
   "source": [
    "selected_rows = authors[~authors['introverted'].isnull()]\n",
    "selected_rows = selected_rows[~selected_rows['intuitive'].isnull()]\n",
    "selected_rows = selected_rows[~selected_rows['thinking'].isnull()]\n",
    "selected_rows = selected_rows[~selected_rows['perceiving'].isnull()]"
   ]
  },
  {
   "cell_type": "code",
   "execution_count": 24,
   "metadata": {},
   "outputs": [],
   "source": [
    "liwc = sorted(liwc, key=str.casefold)"
   ]
  },
  {
   "cell_type": "code",
   "execution_count": 34,
   "metadata": {},
   "outputs": [
    {
     "name": "stdout",
     "output_type": "stream",
     "text": [
      "achieve & $-0.02$ & $\\phantom{-}0.05^{**}$ & $\\phantom{-}0.091^{**}$ & $-0.057^{**}$ \\\\\n",
      "adverb & $-0.01$ & $-0.012$ & $-0.193^{**}$ & $\\phantom{-}0.03^{**}$ \\\\\n",
      "affect & $-0.079^{**}$ & $\\phantom{-}0.014$ & $-0.208^{**}$ & $\\phantom{-}0.025^{*}$ \\\\\n",
      "AllPunc & $\\phantom{-}0.024^{*}$ & $-0.001$ & $\\phantom{-}0.013$ & $-0.009$ \\\\\n",
      "anger & $-0.034^{**}$ & $\\phantom{-}0.002$ & $\\phantom{-}0.068^{**}$ & $\\phantom{-}0.075^{**}$ \\\\\n",
      "anx & $-0.027^{**}$ & $\\phantom{-}0.009$ & $-0.184^{**}$ & $-0.038^{**}$ \\\\\n",
      "Apostro & $-0.019$ & $-0.022^{*}$ & $-0.1^{**}$ & $\\phantom{-}0.01$ \\\\\n",
      "article & $\\phantom{-}0.049^{**}$ & $\\phantom{-}0.034^{**}$ & $\\phantom{-}0.197^{**}$ & $\\phantom{-}0.014$ \\\\\n",
      "assent & $-0.057^{**}$ & $-0.043^{**}$ & $-0.111^{**}$ & $\\phantom{-}0.051^{**}$ \\\\\n",
      "auxverb & $-0.03^{**}$ & $-0.002$ & $-0.024^{*}$ & $-0.004$ \\\\\n",
      "bio & $-0.062^{**}$ & $-0.031^{**}$ & $-0.08^{**}$ & $-0.011$ \\\\\n",
      "body & $-0.053^{**}$ & $-0.049^{**}$ & $-0.038^{**}$ & $\\phantom{-}0.01$ \\\\\n",
      "cause & $-0.007$ & $\\phantom{-}0.048^{**}$ & $\\phantom{-}0.153^{**}$ & $\\phantom{-}0.019$ \\\\\n",
      "certain & $-0.019$ & $\\phantom{-}0.059^{**}$ & $-0.046^{**}$ & $\\phantom{-}0.014$ \\\\\n",
      "cogmech & $-0.026^{*}$ & $\\phantom{-}0.049^{**}$ & $-0.068^{**}$ & $\\phantom{-}0.007$ \\\\\n",
      "Colon & $\\phantom{-}0.033^{**}$ & $-0.023^{*}$ & $-0.038^{**}$ & $\\phantom{-}0.009$ \\\\\n",
      "Comma & $\\phantom{-}0.022^{*}$ & $\\phantom{-}0.045^{**}$ & $\\phantom{-}0.007$ & $\\phantom{-}0.002$ \\\\\n",
      "conj & $-0.053^{**}$ & $-0.012$ & $-0.137^{**}$ & $-0.029^{**}$ \\\\\n",
      "Dash & $\\phantom{-}0.036^{**}$ & $-0.016$ & $\\phantom{-}0.024^{*}$ & $-0.034^{**}$ \\\\\n",
      "death & $\\phantom{-}0.061^{**}$ & $\\phantom{-}0.037^{**}$ & $\\phantom{-}0.088^{**}$ & $\\phantom{-}0.069^{**}$ \\\\\n",
      "Dic & $-0.047^{**}$ & $-0.012$ & $-0.121^{**}$ & $-0.047^{**}$ \\\\\n",
      "discrep & $\\phantom{-}0.027^{*}$ & $\\phantom{-}0.0$ & $\\phantom{-}0.068^{**}$ & $-0.026^{*}$ \\\\\n",
      "excl & $\\phantom{-}0.003$ & $-0.006$ & $-0.028^{**}$ & $\\phantom{-}0.037^{**}$ \\\\\n",
      "Exclam & $-0.077^{**}$ & $-0.033^{**}$ & $-0.211^{**}$ & $-0.038^{**}$ \\\\\n",
      "family & $-0.037^{**}$ & $-0.067^{**}$ & $-0.105^{**}$ & $-0.075^{**}$ \\\\\n",
      "feel & $-0.061^{**}$ & $-0.015$ & $-0.265^{**}$ & $-0.03^{**}$ \\\\\n",
      "filler & $-0.04^{**}$ & $-0.064^{**}$ & $-0.151^{**}$ & $\\phantom{-}0.055^{**}$ \\\\\n",
      "friend & $-0.118^{**}$ & $-0.037^{**}$ & $-0.213^{**}$ & $-0.02$ \\\\\n",
      "funct & $-0.03^{**}$ & $\\phantom{-}0.01$ & $-0.103^{**}$ & $-0.035^{**}$ \\\\\n",
      "future & $\\phantom{-}0.023^{*}$ & $-0.009$ & $\\phantom{-}0.108^{**}$ & $-0.005$ \\\\\n",
      "health & $-0.024^{*}$ & $\\phantom{-}0.023^{*}$ & $-0.069^{**}$ & $-0.059^{**}$ \\\\\n",
      "hear & $\\phantom{-}0.013$ & $-0.022^{*}$ & $-0.126^{**}$ & $\\phantom{-}0.071^{**}$ \\\\\n",
      "home & $\\phantom{-}0.007$ & $-0.084^{**}$ & $-0.051^{**}$ & $-0.097^{**}$ \\\\\n",
      "humans & $-0.067^{**}$ & $\\phantom{-}0.017$ & $-0.037^{**}$ & $\\phantom{-}0.0$ \\\\\n",
      "i & $-0.038^{**}$ & $-0.076^{**}$ & $-0.236^{**}$ & $-0.023^{*}$ \\\\\n",
      "incl & $-0.087^{**}$ & $\\phantom{-}0.001$ & $-0.173^{**}$ & $-0.076^{**}$ \\\\\n",
      "ingest & $-0.015$ & $-0.058^{**}$ & $-0.02$ & $-0.042^{**}$ \\\\\n",
      "inhib & $\\phantom{-}0.03^{**}$ & $\\phantom{-}0.037^{**}$ & $\\phantom{-}0.127^{**}$ & $-0.047^{**}$ \\\\\n",
      "insight & $-0.019$ & $\\phantom{-}0.078^{**}$ & $-0.067^{**}$ & $\\phantom{-}0.02$ \\\\\n",
      "ipron & $\\phantom{-}0.006$ & $\\phantom{-}0.064^{**}$ & $-0.057^{**}$ & $\\phantom{-}0.026^{*}$ \\\\\n",
      "leisure & $\\phantom{-}0.034^{**}$ & $-0.028^{**}$ & $-0.033^{**}$ & $\\phantom{-}0.051^{**}$ \\\\\n",
      "money & $\\phantom{-}0.028^{**}$ & $-0.014$ & $\\phantom{-}0.167^{**}$ & $-0.068^{**}$ \\\\\n",
      "motion & $-0.036^{**}$ & $-0.055^{**}$ & $\\phantom{-}0.001$ & $-0.095^{**}$ \\\\\n",
      "negate & $\\phantom{-}0.035^{**}$ & $-0.014$ & $\\phantom{-}0.095^{**}$ & $\\phantom{-}0.024^{*}$ \\\\\n",
      "negemo & $-0.03^{**}$ & $\\phantom{-}0.016$ & $-0.017$ & $\\phantom{-}0.057^{**}$ \\\\\n",
      "nonfl & $-0.005$ & $\\phantom{-}0.005$ & $-0.022^{*}$ & $\\phantom{-}0.037^{**}$ \\\\\n",
      "number & $\\phantom{-}0.054^{**}$ & $-0.032^{**}$ & $\\phantom{-}0.074^{**}$ & $-0.001$ \\\\\n",
      "OtherP & $\\phantom{-}0.052^{**}$ & $-0.004$ & $\\phantom{-}0.043^{**}$ & $\\phantom{-}0.024^{*}$ \\\\\n",
      "Parenth & $\\phantom{-}0.047^{**}$ & $-0.011$ & $\\phantom{-}0.003$ & $-0.016$ \\\\\n",
      "past & $-0.003$ & $-0.044^{**}$ & $-0.126^{**}$ & $-0.025^{*}$ \\\\\n",
      "percept & $\\phantom{-}0.001$ & $-0.05^{**}$ & $-0.224^{**}$ & $\\phantom{-}0.022^{*}$ \\\\\n",
      "posemo & $-0.081^{**}$ & $\\phantom{-}0.005$ & $-0.265^{**}$ & $-0.012$ \\\\\n",
      "ppron & $-0.089^{**}$ & $-0.064^{**}$ & $-0.256^{**}$ & $-0.053^{**}$ \\\\\n",
      "preps & $\\phantom{-}0.005$ & $\\phantom{-}0.045^{**}$ & $\\phantom{-}0.002$ & $-0.066^{**}$ \\\\\n",
      "present & $-0.062^{**}$ & $-0.012$ & $-0.105^{**}$ & $\\phantom{-}0.004$ \\\\\n",
      "pronoun & $-0.07^{**}$ & $-0.027^{**}$ & $-0.23^{**}$ & $-0.033^{**}$ \\\\\n",
      "QMark & $\\phantom{-}0.001$ & $-0.019$ & $\\phantom{-}0.055^{**}$ & $\\phantom{-}0.048^{**}$ \\\\\n",
      "quant & $\\phantom{-}0.036^{**}$ & $\\phantom{-}0.055^{**}$ & $\\phantom{-}0.032^{**}$ & $\\phantom{-}0.002$ \\\\\n",
      "Quote & $-0.0$ & $\\phantom{-}0.022^{*}$ & $\\phantom{-}0.021^{*}$ & $\\phantom{-}0.013$ \\\\\n",
      "relativ & $-0.01$ & $-0.042^{**}$ & $-0.037^{**}$ & $-0.075^{**}$ \\\\\n",
      "relig & $\\phantom{-}0.038^{**}$ & $\\phantom{-}0.041^{**}$ & $-0.008$ & $\\phantom{-}0.048^{**}$ \\\\\n",
      "sad & $\\phantom{-}0.032^{**}$ & $\\phantom{-}0.025^{*}$ & $-0.121^{**}$ & $\\phantom{-}0.001$ \\\\\n",
      "see & $\\phantom{-}0.043^{**}$ & $-0.06^{**}$ & $-0.064^{**}$ & $\\phantom{-}0.024^{*}$ \\\\\n",
      "SemiC & $\\phantom{-}0.011$ & $\\phantom{-}0.009$ & $\\phantom{-}0.021^{*}$ & $-0.006$ \\\\\n",
      "sexual & $-0.058^{**}$ & $-0.007$ & $-0.051^{**}$ & $\\phantom{-}0.029^{**}$ \\\\\n",
      "shehe & $-0.072^{**}$ & $-0.038^{**}$ & $-0.13^{**}$ & $-0.036^{**}$ \\\\\n",
      "Sixltr & $\\phantom{-}0.014$ & $\\phantom{-}0.075^{**}$ & $\\phantom{-}0.128^{**}$ & $-0.016$ \\\\\n",
      "social & $-0.127^{**}$ & $-0.009$ & $-0.145^{**}$ & $-0.051^{**}$ \\\\\n",
      "space & $-0.02$ & $-0.008$ & $\\phantom{-}0.044^{**}$ & $-0.047^{**}$ \\\\\n",
      "swear & $-0.049^{**}$ & $-0.026^{*}$ & $\\phantom{-}0.055^{**}$ & $\\phantom{-}0.086^{**}$ \\\\\n",
      "tentat & $\\phantom{-}0.034^{**}$ & $\\phantom{-}0.017$ & $\\phantom{-}0.0$ & $\\phantom{-}0.031^{**}$ \\\\\n",
      "they & $\\phantom{-}0.011$ & $\\phantom{-}0.015$ & $\\phantom{-}0.069^{**}$ & $-0.045^{**}$ \\\\\n",
      "time & $\\phantom{-}0.013$ & $-0.052^{**}$ & $-0.118^{**}$ & $-0.059^{**}$ \\\\\n",
      "verb & $-0.046^{**}$ & $-0.025^{*}$ & $-0.127^{**}$ & $-0.009$ \\\\\n",
      "WC & $\\phantom{-}0.006$ & $-0.007$ & $\\phantom{-}0.07^{**}$ & $-0.023^{*}$ \\\\\n",
      "we & $-0.066^{**}$ & $\\phantom{-}0.03^{**}$ & $-0.059^{**}$ & $-0.023^{*}$ \\\\\n",
      "work & $-0.018$ & $-0.017$ & $\\phantom{-}0.147^{**}$ & $-0.068^{**}$ \\\\\n",
      "WPS & $\\phantom{-}0.02$ & $\\phantom{-}0.023^{*}$ & $\\phantom{-}0.044^{**}$ & $\\phantom{-}0.04^{**}$ \\\\\n",
      "you & $-0.066^{**}$ & $\\phantom{-}0.02$ & $-0.025^{*}$ & $-0.03^{**}$ \\\\\n"
     ]
    }
   ],
   "source": [
    "for liwc_col in liwc:\n",
    "    if (pearsonr(selected_rows[liwc_col], selected_rows['introverted'])[1] < 0.05 or pearsonr(selected_rows[liwc_col], selected_rows['intuitive'])[1] < 0.05 or pearsonr(selected_rows[liwc_col], selected_rows['thinking'])[1] < 0.05 or pearsonr(selected_rows[liwc_col], selected_rows['perceiving'])[1] < 0.05 ):\n",
    "        ei_cor = '$'\n",
    "        if pearsonr(selected_rows[liwc_col], selected_rows['introverted'])[0] >= 0:\n",
    "           ei_cor += '\\phantom{-}'\n",
    "        \n",
    "        ei_cor += str(round(pearsonr(selected_rows[liwc_col], selected_rows['introverted'])[0], 3))\n",
    "\n",
    "        if pearsonr(selected_rows[liwc_col], selected_rows['introverted'])[1] < 0.01:\n",
    "            ei_cor += '^{**}'\n",
    "        elif pearsonr(selected_rows[liwc_col], selected_rows['introverted'])[1] < 0.05:\n",
    "            ei_cor += '^{*}'\n",
    "\n",
    "        ei_cor +='$'\n",
    "\n",
    "        sn_cor = '$'\n",
    "        if pearsonr(selected_rows[liwc_col], selected_rows['intuitive'])[0] >= 0:\n",
    "           sn_cor += '\\phantom{-}'\n",
    "        \n",
    "        sn_cor += str(round(pearsonr(selected_rows[liwc_col], selected_rows['intuitive'])[0], 3))\n",
    "        \n",
    "\n",
    "        if pearsonr(selected_rows[liwc_col], selected_rows['intuitive'])[1] < 0.01:\n",
    "            sn_cor += '^{**}'\n",
    "        elif pearsonr(selected_rows[liwc_col], selected_rows['intuitive'])[1] < 0.05:\n",
    "            sn_cor += '^{*}'\n",
    "\n",
    "        sn_cor += '$'\n",
    "\n",
    "        \n",
    "        tf_cor = '$'\n",
    "        if pearsonr(selected_rows[liwc_col], selected_rows['thinking'])[0] >= 0:\n",
    "           tf_cor += '\\phantom{-}'\n",
    "        \n",
    "        tf_cor += str(round(pearsonr(selected_rows[liwc_col], selected_rows['thinking'])[0], 3))\n",
    "        \n",
    "\n",
    "        if pearsonr(selected_rows[liwc_col], selected_rows['thinking'])[1] < 0.01:\n",
    "            tf_cor += '^{**}'\n",
    "        elif pearsonr(selected_rows[liwc_col], selected_rows['thinking'])[1] < 0.05:\n",
    "            tf_cor += '^{*}'\n",
    "\n",
    "        tf_cor += '$'\n",
    "\n",
    "\n",
    "        jp_cor = '$'\n",
    "        if pearsonr(selected_rows[liwc_col], selected_rows['perceiving'])[0] >= 0:\n",
    "           jp_cor += '\\phantom{-}'\n",
    "        \n",
    "        jp_cor += str(round(pearsonr(selected_rows[liwc_col], selected_rows['perceiving'])[0], 3))\n",
    "        \n",
    "\n",
    "        if pearsonr(selected_rows[liwc_col], selected_rows['perceiving'])[1] < 0.01:\n",
    "            jp_cor += '^{**}'\n",
    "        elif pearsonr(selected_rows[liwc_col], selected_rows['perceiving'])[1] < 0.05:\n",
    "            jp_cor += '^{*}'\n",
    "\n",
    "        jp_cor += '$'\n",
    "        \n",
    "        print(liwc_col + ' & ' + ei_cor + ' & ' + sn_cor + ' & ' + tf_cor + ' & ' + jp_cor + ' \\\\\\\\')"
   ]
  }
 ],
 "metadata": {
  "kernelspec": {
   "display_name": "Python 3",
   "language": "python",
   "name": "python3"
  },
  "language_info": {
   "codemirror_mode": {
    "name": "ipython",
    "version": 3
   },
   "file_extension": ".py",
   "mimetype": "text/x-python",
   "name": "python",
   "nbconvert_exporter": "python",
   "pygments_lexer": "ipython3",
   "version": "3.9.6"
  },
  "orig_nbformat": 4,
  "vscode": {
   "interpreter": {
    "hash": "31f2aee4e71d21fbe5cf8b01ff0e069b9275f58929596ceb00d14d90e3e16cd6"
   }
  }
 },
 "nbformat": 4,
 "nbformat_minor": 2
}
